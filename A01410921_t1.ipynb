{
 "cells": [
  {
   "cell_type": "code",
   "execution_count": 7,
   "metadata": {},
   "outputs": [
    {
     "data": {
      "text/plain": [
       "['Mario', 'DK', 'Link', 'Samus', 'Yoshi', 'Kirby', 'Fox', 'Pikachu']"
      ]
     },
     "execution_count": 7,
     "metadata": {},
     "output_type": "execute_result"
    }
   ],
   "source": [
    "smash = ['Mario', 'DK', 'Link', 'Samus', 'Yoshi', 'Kirby', 'Fox', 'Pikachu']\n",
    "smash"
   ]
  },
  {
   "cell_type": "code",
   "execution_count": 8,
   "metadata": {},
   "outputs": [
    {
     "data": {
      "text/plain": [
       "['Mario',\n",
       " 'DK',\n",
       " 'Link',\n",
       " 'Samus',\n",
       " 'Yoshi',\n",
       " 'Kirby',\n",
       " 'Fox',\n",
       " 'Pikachu',\n",
       " 'Luigi',\n",
       " 'Ness',\n",
       " 'C. Falcon',\n",
       " 'Jigglypuff']"
      ]
     },
     "execution_count": 8,
     "metadata": {},
     "output_type": "execute_result"
    }
   ],
   "source": [
    "smash.append('Luigi')\n",
    "smash.append('Ness')\n",
    "smash.append('C. Falcon')\n",
    "smash.append('Jigglypuff')\n",
    "smash"
   ]
  },
  {
   "cell_type": "code",
   "execution_count": 9,
   "metadata": {},
   "outputs": [
    {
     "data": {
      "text/plain": [
       "['Mario',\n",
       " 'DK',\n",
       " 'Link',\n",
       " 'Samus',\n",
       " 'Yoshi',\n",
       " 'Kirby',\n",
       " 'Fox',\n",
       " 'Pikachu',\n",
       " 'Luigi',\n",
       " 'Ness',\n",
       " 'C. Falcon',\n",
       " 'Jigglypuff',\n",
       " ['Metal Mario', 'Polygon Team', 'Master Hand']]"
      ]
     },
     "execution_count": 9,
     "metadata": {},
     "output_type": "execute_result"
    }
   ],
   "source": [
    "smash.append(['Metal Mario', 'Polygon Team', 'Master Hand'])\n",
    "smash"
   ]
  },
  {
   "cell_type": "code",
   "execution_count": 10,
   "metadata": {},
   "outputs": [
    {
     "data": {
      "text/plain": [
       "['Original roster',\n",
       " 'Luigi',\n",
       " 'Ness',\n",
       " 'C. Falcon',\n",
       " 'Jigglypuff',\n",
       " ['Metal Mario', 'Polygon Team', 'Master Hand']]"
      ]
     },
     "execution_count": 10,
     "metadata": {},
     "output_type": "execute_result"
    }
   ],
   "source": [
    "smash = ['Original roster'] + smash[8:]\n",
    "smash"
   ]
  },
  {
   "cell_type": "code",
   "execution_count": 11,
   "metadata": {},
   "outputs": [
    {
     "data": {
      "text/plain": [
       "[[0, 0, 0, 0], [0, 0, 0, 0], [0, 0, 0, 0], [0, 0, 0, 0]]"
      ]
     },
     "execution_count": 11,
     "metadata": {},
     "output_type": "execute_result"
    }
   ],
   "source": [
    "def null_matrix(n, m):\n",
    "    return [[0] * m for _ in range(n)]\n",
    "null_matrix(4,4)\n"
   ]
  },
  {
   "cell_type": "code",
   "execution_count": 12,
   "metadata": {},
   "outputs": [
    {
     "data": {
      "text/plain": [
       "[[['?', '?'], ['?', '?'], ['?', '?']],\n",
       " [['?', '?'], ['?', '?'], ['?', '?']],\n",
       " [['?', '?'], ['?', '?'], ['?', '?']],\n",
       " [['?', '?'], ['?', '?'], ['?', '?']]]"
      ]
     },
     "execution_count": 12,
     "metadata": {},
     "output_type": "execute_result"
    }
   ],
   "source": [
    "mat = []\n",
    "for i in range(4):\n",
    "    mat.append([])\n",
    "    for i in range(3):\n",
    "        mat[-1].append(['?'] * 2)\n",
    "        \n",
    "mat"
   ]
  },
  {
   "cell_type": "code",
   "execution_count": 13,
   "metadata": {},
   "outputs": [
    {
     "data": {
      "text/plain": [
       "{'Disney+': 7, 'Netflix': 8.99, 'Prime': 12.99}"
      ]
     },
     "execution_count": 13,
     "metadata": {},
     "output_type": "execute_result"
    }
   ],
   "source": [
    "mensualidad = {'Disney+': 7, 'Netflix': 8.99, 'Prime': 12.99}\n",
    "mensualidad"
   ]
  },
  {
   "cell_type": "code",
   "execution_count": 14,
   "metadata": {},
   "outputs": [
    {
     "data": {
      "text/plain": [
       "{'Netflix': 139, 'Prime': 99, 'Blim': 109}"
      ]
     },
     "execution_count": 14,
     "metadata": {},
     "output_type": "execute_result"
    }
   ],
   "source": [
    "del mensualidad['Disney+']\n",
    "mensualidad['Netflix'] = 139\n",
    "mensualidad['Prime'] = 99\n",
    "mensualidad['Blim'] = 109\n",
    "mensualidad"
   ]
  },
  {
   "cell_type": "code",
   "execution_count": 15,
   "metadata": {},
   "outputs": [
    {
     "data": {
      "text/plain": [
       "{'Netflix': 139, 'Prime': 99, 'Blim': 109, 'Tec': 20400}"
      ]
     },
     "execution_count": 15,
     "metadata": {},
     "output_type": "execute_result"
    }
   ],
   "source": [
    "mensualidad['Tec'] = 20400\n",
    "mensualidad"
   ]
  },
  {
   "cell_type": "code",
   "execution_count": 16,
   "metadata": {},
   "outputs": [
    {
     "data": {
      "text/plain": [
       "array([[ 1,  2,  3,  4],\n",
       "       [ 5,  6,  7,  8],\n",
       "       [ 9, 10, 11, 12],\n",
       "       [13, 14, 15, 16]])"
      ]
     },
     "execution_count": 16,
     "metadata": {},
     "output_type": "execute_result"
    }
   ],
   "source": [
    "import numpy as np\n",
    "raw = np.array(list(range(1,17))).reshape((4,4))\n",
    "raw"
   ]
  },
  {
   "cell_type": "code",
   "execution_count": 18,
   "metadata": {},
   "outputs": [
    {
     "data": {
      "text/plain": [
       "array([[2, 3],\n",
       "       [6, 7]])"
      ]
     },
     "execution_count": 18,
     "metadata": {},
     "output_type": "execute_result"
    }
   ],
   "source": [
    "raw[0:2, 1:3]"
   ]
  },
  {
   "cell_type": "code",
   "execution_count": 19,
   "metadata": {},
   "outputs": [
    {
     "data": {
      "text/plain": [
       "array([[ 7,  8],\n",
       "       [11, 12],\n",
       "       [15, 16]])"
      ]
     },
     "execution_count": 19,
     "metadata": {},
     "output_type": "execute_result"
    }
   ],
   "source": [
    "raw[1:4, 2:4]"
   ]
  },
  {
   "cell_type": "code",
   "execution_count": 24,
   "metadata": {},
   "outputs": [
    {
     "data": {
      "text/plain": [
       "array([[ 1,  2,  3],\n",
       "       [ 5,  6,  7],\n",
       "       [ 9, 10, 11],\n",
       "       [13, 14, 15]])"
      ]
     },
     "execution_count": 24,
     "metadata": {},
     "output_type": "execute_result"
    }
   ],
   "source": [
    "label = raw[:, 3]\n",
    "features = raw[0:4, 0:3]\n",
    "features\n"
   ]
  },
  {
   "cell_type": "code",
   "execution_count": 25,
   "metadata": {},
   "outputs": [
    {
     "data": {
      "text/plain": [
       "array([ 4,  8, 12, 16])"
      ]
     },
     "execution_count": 25,
     "metadata": {},
     "output_type": "execute_result"
    }
   ],
   "source": [
    "label"
   ]
  },
  {
   "cell_type": "code",
   "execution_count": 26,
   "metadata": {},
   "outputs": [
    {
     "data": {
      "text/plain": [
       "[(array([1, 2, 3]), 4),\n",
       " (array([5, 6, 7]), 8),\n",
       " (array([ 9, 10, 11]), 12),\n",
       " (array([13, 14, 15]), 16)]"
      ]
     },
     "execution_count": 26,
     "metadata": {},
     "output_type": "execute_result"
    }
   ],
   "source": [
    "data = list(zip(features, label))\n",
    "data"
   ]
  },
  {
   "cell_type": "code",
   "execution_count": 27,
   "metadata": {},
   "outputs": [
    {
     "name": "stdout",
     "output_type": "stream",
     "text": [
      "[(array([1, 2, 3]), 4)]\n",
      "[(array([5, 6, 7]), 8), (array([ 9, 10, 11]), 12), (array([13, 14, 15]), 16)]\n"
     ]
    }
   ],
   "source": [
    "size = len(data)\n",
    "test = data[:int((25*size)/100)]\n",
    "train = data[int((25*size)/100):size]\n",
    "print(test)\n",
    "print(train)"
   ]
  },
  {
   "cell_type": "code",
   "execution_count": 28,
   "metadata": {},
   "outputs": [],
   "source": [
    "# 16) Al 70% de tus amigos les gusta jugar Smash Bros Ultimate, el 35% de tus amigos les gusta jugar\n",
    "# Smash Bros y Zelda BotW. ¿Cuál es la probabilidad de que a uno de tus amigos le guste jugar Zelda,\n",
    "#dado que también le gusta jugar Smash? Marca tu respuesta como un comentario en tu código\n",
    "# de Python.\n",
    "\n",
    "# La probabilidad es de 50%, ya que 35% de esos 70% que juegan smash, es igual a la mitad de ellos."
   ]
  },
  {
   "cell_type": "code",
   "execution_count": 29,
   "metadata": {},
   "outputs": [],
   "source": [
    "# 17) Los resultados de un laboratorio médico indican que fuiste contagiado por una enfermedad\n",
    "# extremadamente rara y mortal, la prueba tiene un 99% de precisión, por lo que la cantidad de\n",
    "# falsos positivos que arroja es del 1%. Sabiendo que la enfermedad sólo afecta al 0.1% de la\n",
    "# población, cuál es la probabilidad de estar enfermo dado que la prueba salió positiva. Marca tu\n",
    "# respuesta como un comentario en tu código de Python.\n",
    "\n",
    "# La probabilidad de estar enfermo es del 99%."
   ]
  },
  {
   "cell_type": "code",
   "execution_count": 30,
   "metadata": {},
   "outputs": [],
   "source": [
    "# 18) 3x^2cos(x^2) − 2x^4sin(x^2)"
   ]
  },
  {
   "cell_type": "code",
   "execution_count": 31,
   "metadata": {},
   "outputs": [],
   "source": [
    "# 19) x(2sin(x) + xcos(x) + 4x^2)"
   ]
  },
  {
   "cell_type": "code",
   "execution_count": null,
   "metadata": {},
   "outputs": [],
   "source": [
    "# 20) x: 3x^2 + 2zx + z^2\n",
    "#     z: 3z^2 + 2xz + x^2"
   ]
  }
 ],
 "metadata": {
  "kernelspec": {
   "display_name": "Python 3",
   "language": "python",
   "name": "python3"
  },
  "language_info": {
   "codemirror_mode": {
    "name": "ipython",
    "version": 3
   },
   "file_extension": ".py",
   "mimetype": "text/x-python",
   "name": "python",
   "nbconvert_exporter": "python",
   "pygments_lexer": "ipython3",
   "version": "3.8.5"
  }
 },
 "nbformat": 4,
 "nbformat_minor": 4
}
